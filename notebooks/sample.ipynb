{
 "cells": [
  {
   "cell_type": "markdown",
   "id": "808d57d5-3483-41a6-a099-ac7fe5c44963",
   "metadata": {},
   "source": [
    "# Pipeline Example"
   ]
  },
  {
   "cell_type": "code",
   "execution_count": null,
   "id": "a42acc57-4c7e-4e4f-af69-36b39d58c5af",
   "metadata": {},
   "outputs": [],
   "source": [
    "import logging\n",
    "\n",
    "from sudareph.data import Data\n",
    "from sudareph.flow import Parallel\n",
    "from sudareph.work import Work\n",
    "\n",
    "logging.basicConfig(level=logging.DEBUG)"
   ]
  },
  {
   "cell_type": "markdown",
   "id": "1435f7e8-cc0a-4cd4-a391-962ffffafe73",
   "metadata": {},
   "source": [
    "## Module Definition"
   ]
  },
  {
   "cell_type": "code",
   "execution_count": null,
   "id": "46bf0f91-8d12-423c-b3c1-4bbde906fafd",
   "metadata": {},
   "outputs": [],
   "source": [
    "sum = Work('sum')\n",
    "Summation = Work('Sum', prefix=str)\n",
    "\n",
    "\n",
    "@sum.register\n",
    "def _sum(a):\n",
    "    return 'ASDF:' + a\n",
    "\n",
    "\n",
    "@Summation.register\n",
    "def _Sum(val, prefix: str) -> str:\n",
    "    return prefix + val"
   ]
  },
  {
   "cell_type": "markdown",
   "id": "213bfc99-bd62-4d90-a72e-f3562e082725",
   "metadata": {},
   "source": [
    "# Level1: Use Module as function"
   ]
  },
  {
   "cell_type": "code",
   "execution_count": null,
   "id": "f53f98e5-35a0-440d-a8bf-11a558feef08",
   "metadata": {},
   "outputs": [],
   "source": [
    "work = sum\n",
    "result = work('INPUT')\n",
    "\n",
    "print(result.output)"
   ]
  },
  {
   "cell_type": "code",
   "execution_count": null,
   "id": "249dc727-966b-4bd6-b156-446262404bbf",
   "metadata": {},
   "outputs": [],
   "source": [
    "work = Summation.set(prefix='ASDF:')\n",
    "result = work('Input')\n",
    "\n",
    "print(result.output)"
   ]
  },
  {
   "cell_type": "markdown",
   "id": "97bd866f-a6c5-4598-838b-fca84d576924",
   "metadata": {},
   "source": [
    "## Level2: Use Module as smart function"
   ]
  },
  {
   "cell_type": "code",
   "execution_count": null,
   "id": "97c7fd73-0aa2-4dad-ab1a-74648002ab4e",
   "metadata": {},
   "outputs": [],
   "source": [
    "input = Data('name', 'value')\n",
    "work = Summation.set(prefix='POST:')\n",
    "\n",
    "result = input > work\n",
    "\n",
    "print(result.output)"
   ]
  },
  {
   "cell_type": "markdown",
   "id": "d98fd418-5c0b-42b5-b606-17ef68dbac83",
   "metadata": {},
   "source": [
    "## Level3: Component can be joint"
   ]
  },
  {
   "cell_type": "code",
   "execution_count": null,
   "id": "4b846eb9-ff2e-443f-8c5c-908745411e84",
   "metadata": {},
   "outputs": [],
   "source": [
    "pipeline = Summation.set(prefix='PRE:') >> Summation.set(prefix='POST:')\n",
    "input = Data('name', 'value')\n",
    "\n",
    "result = input > pipeline\n",
    "\n",
    "print(result.output)\n",
    "\n",
    "(Data('name', 'value') > Summation.set(prefix='PRE:') >> Summation.set(prefix='POST:')).output"
   ]
  },
  {
   "cell_type": "markdown",
   "id": "6ab6a52f-2684-47c0-b59e-a134ed557a84",
   "metadata": {},
   "source": [
    "## Parallel Workflow"
   ]
  },
  {
   "cell_type": "code",
   "execution_count": null,
   "id": "0514dd90-0fe9-4c33-88b8-3bd8f4b06214",
   "metadata": {},
   "outputs": [],
   "source": [
    "pipeline = Summation.set(prefix='Outer:') >> Parallel(\n",
    "    'Parallel',\n",
    "    A=Summation.set(prefix='Inner1') >> Summation.set(prefix='Inner2'),\n",
    "    B=Summation.set(prefix='Inner1-1') >> Summation.set(prefix='Inner2-1'),\n",
    ")\n",
    "\n",
    "(Data('name', 'ARG') > pipeline).output"
   ]
  },
  {
   "cell_type": "code",
   "execution_count": null,
   "id": "3826de5f-c411-4387-9d77-e98ba9212ed1",
   "metadata": {},
   "outputs": [],
   "source": [
    "pipeline = Summation.set(prefix='Outer:') >> Parallel(\n",
    "    'Parallel',\n",
    "    A=Parallel(\n",
    "        'Parallel',\n",
    "        A=Summation.set(prefix='Inner1') >> Summation.set(prefix='Inner2'),\n",
    "        B=Summation.set(prefix='Inner1-1') >> Summation.set(prefix='Inner2-1'),\n",
    "    ),\n",
    "    B=Summation.set(prefix='Inner1-1') >> Summation.set(prefix='Inner2-1'),\n",
    ")\n",
    "\n",
    "(Data('name', 'ARG') > pipeline).output"
   ]
  }
 ],
 "metadata": {
  "kernelspec": {
   "display_name": "Python 3 (ipykernel)",
   "language": "python",
   "name": "python3"
  },
  "language_info": {
   "codemirror_mode": {
    "name": "ipython",
    "version": 3
   },
   "file_extension": ".py",
   "mimetype": "text/x-python",
   "name": "python",
   "nbconvert_exporter": "python",
   "pygments_lexer": "ipython3",
   "version": "3.12.2"
  }
 },
 "nbformat": 4,
 "nbformat_minor": 5
}
