{
 "cells": [
  {
   "cell_type": "markdown",
   "id": "808d57d5-3483-41a6-a099-ac7fe5c44963",
   "metadata": {},
   "source": [
    "# Pipeline Example"
   ]
  },
  {
   "cell_type": "code",
   "execution_count": null,
   "id": "a42acc57-4c7e-4e4f-af69-36b39d58c5af",
   "metadata": {},
   "outputs": [],
   "source": [
    "from sudareph import *\n",
    "\n",
    "import logging\n",
    "\n",
    "logging.basicConfig(level=logging.DEBUG)"
   ]
  },
  {
   "cell_type": "markdown",
   "id": "1435f7e8-cc0a-4cd4-a391-962ffffafe73",
   "metadata": {},
   "source": [
    "## Module Definition"
   ]
  },
  {
   "cell_type": "code",
   "execution_count": null,
   "id": "46bf0f91-8d12-423c-b3c1-4bbde906fafd",
   "metadata": {},
   "outputs": [],
   "source": [
    "@work_cls('Sum')\n",
    "class Summation:\n",
    "    def __init__(self, prefix: str):\n",
    "        self.prefix = prefix\n",
    "\n",
    "    def __call__(self, str1: str) -> str:\n",
    "        return self.prefix + str1\n",
    "\n",
    "@work_fn('sum')\n",
    "def sum(a):\n",
    "    return 'ASDF:' + a"
   ]
  },
  {
   "cell_type": "markdown",
   "id": "213bfc99-bd62-4d90-a72e-f3562e082725",
   "metadata": {},
   "source": [
    "# Level1: Use Module as function"
   ]
  },
  {
   "cell_type": "code",
   "execution_count": null,
   "id": "555d8da1-fed2-4346-867e-6a2ea0292695",
   "metadata": {},
   "outputs": [],
   "source": [
    "work = sum\n",
    "result = work('INPUT')\n",
    "\n",
    "print(result.output)\n",
    "\n",
    "work = Summation('ASDF:')\n",
    "result = work('Input')\n",
    "\n",
    "print(result.output)"
   ]
  },
  {
   "cell_type": "markdown",
   "id": "97bd866f-a6c5-4598-838b-fca84d576924",
   "metadata": {},
   "source": [
    "## Level2: Use Module as smart function"
   ]
  },
  {
   "cell_type": "code",
   "execution_count": null,
   "id": "97c7fd73-0aa2-4dad-ab1a-74648002ab4e",
   "metadata": {},
   "outputs": [],
   "source": [
    "input = Data('name', 'value')\n",
    "work = Summation('POST:')\n",
    "\n",
    "result = input > work\n",
    "\n",
    "print(result.output)"
   ]
  },
  {
   "cell_type": "markdown",
   "id": "d98fd418-5c0b-42b5-b606-17ef68dbac83",
   "metadata": {},
   "source": [
    "## Level3: Component can be joint"
   ]
  },
  {
   "cell_type": "code",
   "execution_count": null,
   "id": "4b846eb9-ff2e-443f-8c5c-908745411e84",
   "metadata": {},
   "outputs": [],
   "source": [
    "pipeline = Summation('PRE:') >> Summation('POST:')\n",
    "input = Data('name', 'value')\n",
    "\n",
    "result = input > pipeline\n",
    "\n",
    "print(result.output)\n",
    "\n",
    "(Data('name', 'value') > Summation('PRE:') >> Summation('POST:')).output"
   ]
  },
  {
   "cell_type": "markdown",
   "id": "6ab6a52f-2684-47c0-b59e-a134ed557a84",
   "metadata": {},
   "source": [
    "## Parallel Workflow"
   ]
  },
  {
   "cell_type": "code",
   "execution_count": null,
   "id": "d106c5a2-1724-43d1-9fdc-10768cb0ff82",
   "metadata": {},
   "outputs": [],
   "source": [
    "pipeline = Summation('Outer:') >> Parallel(\n",
    "    'Parallel',\n",
    "    A=Summation('Inner1') >> Summation('Inner2'),\n",
    "    B=Summation('Inner1-1') >> Summation('Inner2-1'),\n",
    ")\n",
    "\n",
    "(Data('name', 'ARG') > pipeline).output\n",
    "\n",
    "\n",
    "pipeline = Summation('Outer:') >> Parallel(\n",
    "    'Parallel',\n",
    "    A=Parallel(\n",
    "        'Parallel',\n",
    "        A=Summation('Inner1') >> Summation('Inner2'),\n",
    "        B=Summation('Inner1-1') >> Summation('Inner2-1'),\n",
    "    ),\n",
    "    B=Summation('Inner1-1') >> Summation('Inner2-1'),\n",
    ")\n",
    "\n",
    "(Data('name', 'ARG') > pipeline).output"
   ]
  }
 ],
 "metadata": {
  "kernelspec": {
   "display_name": "Python 3 (ipykernel)",
   "language": "python",
   "name": "python3"
  },
  "language_info": {
   "codemirror_mode": {
    "name": "ipython",
    "version": 3
   },
   "file_extension": ".py",
   "mimetype": "text/x-python",
   "name": "python",
   "nbconvert_exporter": "python",
   "pygments_lexer": "ipython3",
   "version": "3.12.2"
  }
 },
 "nbformat": 4,
 "nbformat_minor": 5
}
