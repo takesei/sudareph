{
 "cells": [
  {
   "cell_type": "code",
   "execution_count": null,
   "id": "c075e97e-06ee-4786-9584-e575c2af7efc",
   "metadata": {},
   "outputs": [],
   "source": [
    "from sudareph.data import Data\n",
    "from sudareph.flow import Parallel\n",
    "from sudareph.work import Work"
   ]
  },
  {
   "cell_type": "code",
   "execution_count": null,
   "id": "a7f1d4e8-49b1-427b-a76c-8a822d47a432",
   "metadata": {},
   "outputs": [],
   "source": [
    "sq = Work('Square')\n",
    "inc = Work('Plus1', value=int)\n",
    "smz = Work('Summerize')\n",
    "\n",
    "pipeline = sq >> inc.set(value=3) >> Parallel(A=inc >> inc, B=inc >> inc) >> smz\n",
    "\n",
    "# pipeline = Pipeline(\n",
    "#     'Sample Pipeline',\n",
    "#     sq >> inc(3) >> Parallel(A=inc >> inc, B=inc + inc) >> smz,\n",
    "#     timeout,\n",
    "#     cache,\n",
    "# ).resume"
   ]
  },
  {
   "cell_type": "code",
   "execution_count": null,
   "id": "0da27b68-a2b2-4888-8e47-5067c76b1109",
   "metadata": {},
   "outputs": [],
   "source": [
    "@sq.register\n",
    "def square(num: float) -> float:\n",
    "    return num**2\n",
    "\n",
    "\n",
    "@inc.register\n",
    "def increment(num: float, value: int) -> float:\n",
    "    return num + value\n",
    "\n",
    "\n",
    "@smz.register\n",
    "def summerize(res: dict[str, int]):\n",
    "    return res"
   ]
  },
  {
   "cell_type": "code",
   "execution_count": null,
   "id": "694365fb-3bdc-49ff-84e2-7012bc9479eb",
   "metadata": {},
   "outputs": [],
   "source": [
    "(Data(10) > pipeline).output"
   ]
  }
 ],
 "metadata": {
  "kernelspec": {
   "display_name": "Python 3 (ipykernel)",
   "language": "python",
   "name": "python3"
  },
  "language_info": {
   "codemirror_mode": {
    "name": "ipython",
    "version": 3
   },
   "file_extension": ".py",
   "mimetype": "text/x-python",
   "name": "python",
   "nbconvert_exporter": "python",
   "pygments_lexer": "ipython3",
   "version": "3.12.2"
  }
 },
 "nbformat": 4,
 "nbformat_minor": 5
}
